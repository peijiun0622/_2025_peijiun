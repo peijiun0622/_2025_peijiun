{
 "cells": [
  {
   "cell_type": "code",
   "execution_count": 1,
   "id": "d895cc09",
   "metadata": {},
   "outputs": [
    {
     "data": {
      "text/plain": [
       "array([15, 25, 35])"
      ]
     },
     "execution_count": 1,
     "metadata": {},
     "output_type": "execute_result"
    }
   ],
   "source": [
    "import numpy as np\n",
    "array=np.array([10,20,30])\n",
    "type(array)\n",
    "array1=array+5\n",
    "array1"
   ]
  },
  {
   "cell_type": "markdown",
   "id": "03e81322",
   "metadata": {},
   "source": [
    "import numpy as np：導入 NumPy 庫並命名為 np。\n",
    "array = np.array([10, 20, 30])：創建一個包含值 [10, 20, 30] 的 NumPy 陣列。\n",
    "type(array)：返回 array 的類型，即 <class 'numpy.ndarray'>。\n",
    "array1 = array + 5：對 array 的每個元素加 5，生成新陣列 [15, 25, 35]。\n",
    "array1：輸出 array1 的值，即 array([15, 25, 35])"
   ]
  },
  {
   "cell_type": "code",
   "execution_count": 5,
   "id": "4033afde",
   "metadata": {},
   "outputs": [
    {
     "data": {
      "text/plain": [
       "array([79, 83])"
      ]
     },
     "execution_count": 5,
     "metadata": {},
     "output_type": "execute_result"
    }
   ],
   "source": [
    "import numpy as np\n",
    "from numpy import ndarray\n",
    "students:ndarray=np.array([[79,83,68,86,82],\n",
    "                         [66,88,67,72,75]])\n",
    "students[0]\n",
    "students[1]\n",
    "students[1,:3]\n",
    "students[0,:-3]"
   ]
  },
  {
   "cell_type": "markdown",
   "id": "90f35ebb",
   "metadata": {},
   "source": [
    "import numpy as np 和 from numpy import ndarray：導入 NumPy 庫以及 ndarray 類。\n",
    "students: ndarray = np.array([[79, 83, 68, 86, 82], [66, 88, 67, 72, 75]])：創建一個二維 NumPy 陣列，包含兩行（學生）和五列（成績）。\n",
    "陣列形狀：(2, 5)\n",
    "students[0]：[79, 83, 68, 86, 82]\n",
    "students[1]：[66, 88, 67, 72, 75]\n",
    "students[0]：選擇第一行，輸出 array([79, 83, 68, 86, 82])。\n",
    "students[1]：選擇第二行，輸出 array([66, 88, 67, 72, 75])。\n",
    "students[1, :3]：選擇第二行 (students[1]) 的前三列（索引 0 到 2），輸出 array([66, 88, 67])。\n",
    "students[0, :-3]：選擇第一行 (students[0]) 的前兩列（相當於 students[0, :2]），輸出 array([79, 83])。"
   ]
  },
  {
   "cell_type": "code",
   "execution_count": null,
   "id": "3dfd734e",
   "metadata": {},
   "outputs": [],
   "source": [
    "\n"
   ]
  }
 ],
 "metadata": {
  "kernelspec": {
   "display_name": "peijiun0622",
   "language": "python",
   "name": "python3"
  },
  "language_info": {
   "codemirror_mode": {
    "name": "ipython",
    "version": 3
   },
   "file_extension": ".py",
   "mimetype": "text/x-python",
   "name": "python",
   "nbconvert_exporter": "python",
   "pygments_lexer": "ipython3",
   "version": "3.10.16"
  }
 },
 "nbformat": 4,
 "nbformat_minor": 5
}
