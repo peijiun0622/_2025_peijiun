{
  "nbformat": 4,
  "nbformat_minor": 0,
  "metadata": {
    "colab": {
      "provenance": [],
      "authorship_tag": "ABX9TyOTyjxoOy1VSpX9lIARTkNa",
      "include_colab_link": true
    },
    "kernelspec": {
      "name": "python3",
      "display_name": "Python 3"
    },
    "language_info": {
      "name": "python"
    }
  },
  "cells": [
    {
      "cell_type": "markdown",
      "metadata": {
        "id": "view-in-github",
        "colab_type": "text"
      },
      "source": [
        "<a href=\"https://colab.research.google.com/github/peijiun0622/_2025_peijiun/blob/main/0510/lesson3.ipynb\" target=\"_parent\"><img src=\"https://colab.research.google.com/assets/colab-badge.svg\" alt=\"Open In Colab\"/></a>"
      ]
    },
    {
      "cell_type": "code",
      "source": [
        "#比較運算子\n",
        "5==5"
      ],
      "metadata": {
        "id": "o0fXHZa24CDP",
        "outputId": "41a08107-2d85-4913-ca15-aa58a42fae2c",
        "colab": {
          "base_uri": "https://localhost:8080/"
        }
      },
      "execution_count": null,
      "outputs": [
        {
          "output_type": "execute_result",
          "data": {
            "text/plain": [
              "True"
            ]
          },
          "metadata": {},
          "execution_count": 2
        }
      ]
    },
    {
      "cell_type": "code",
      "source": [
        "score=60\n",
        "if score>=60:\n",
        " print(\"pass\")\n",
        "else:\n",
        "  print(\"no pass\")\n",
        "print(\"應用程式end\")"
      ],
      "metadata": {
        "id": "x1WD-iA34PBg",
        "colab": {
          "base_uri": "https://localhost:8080/"
        },
        "outputId": "b28672cc-5733-43ef-920a-b9ea26bd55a9"
      },
      "execution_count": 3,
      "outputs": [
        {
          "output_type": "stream",
          "name": "stdout",
          "text": [
            "pass\n",
            "應用程式end\n"
          ]
        }
      ]
    }
  ]
}