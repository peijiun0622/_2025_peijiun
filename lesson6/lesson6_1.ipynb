{
 "cells": [
  {
   "cell_type": "code",
<<<<<<< HEAD
   "execution_count": 1,
   "id": "c10717ea",
=======
   "execution_count": 2,
   "id": "573b524a",
>>>>>>> f9b4435660819e22b9f60a4406a761a5ebedced8
   "metadata": {},
   "outputs": [
    {
     "name": "stdout",
     "output_type": "stream",
     "text": [
<<<<<<< HEAD
      "test\n"
=======
      "hello test\n"
>>>>>>> f9b4435660819e22b9f60a4406a761a5ebedced8
     ]
    }
   ],
   "source": [
<<<<<<< HEAD
    "print(\"test\")"
=======
    "print(\"hello test\")"
>>>>>>> f9b4435660819e22b9f60a4406a761a5ebedced8
   ]
  }
 ],
 "metadata": {
  "kernelspec": {
   "display_name": "peijiun0622",
   "language": "python",
   "name": "python3"
  },
  "language_info": {
   "codemirror_mode": {
    "name": "ipython",
    "version": 3
   },
   "file_extension": ".py",
   "mimetype": "text/x-python",
   "name": "python",
   "nbconvert_exporter": "python",
   "pygments_lexer": "ipython3",
   "version": "3.10.16"
  }
 },
 "nbformat": 4,
 "nbformat_minor": 5
}
