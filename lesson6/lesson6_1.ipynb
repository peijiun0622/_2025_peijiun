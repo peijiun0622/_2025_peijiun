{
 "cells": [
  {
   "cell_type": "code",
   "execution_count": 2,
   "id": "c10717ea",
   "metadata": {},
   "outputs": [
    {
     "name": "stdout",
     "output_type": "stream",
     "text": [
      "test 2\n"
     ]
    }
   ],
   "source": [
    "print(\"test 2\")"
   ]
  }
 ],
 "metadata": {
  "kernelspec": {
   "display_name": "peijiun0622",
   "language": "python",
   "name": "python3"
  },
  "language_info": {
   "codemirror_mode": {
    "name": "ipython",
    "version": 3
   },
   "file_extension": ".py",
   "mimetype": "text/x-python",
   "name": "python",
   "nbconvert_exporter": "python",
   "pygments_lexer": "ipython3",
   "version": "3.10.16"
  }
 },
 "nbformat": 4,
 "nbformat_minor": 5
}
