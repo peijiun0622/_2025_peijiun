{
 "cells": [
  {
   "cell_type": "markdown",
   "id": "a2b2f9ef",
   "metadata": {},
   "source": [
    "https://www.perplexity.ai/search/045ecda7-23bf-4d76-9155-fcb886e2425e"
   ]
  },
  {
   "cell_type": "code",
   "execution_count": 5,
   "id": "901776a5",
   "metadata": {},
   "outputs": [
    {
     "data": {
      "text/plain": [
       "array([[0.45538222, 0.88721317, 0.82153768, 0.21595103],\n",
       "       [0.87195637, 0.53168564, 0.02020151, 0.03129179],\n",
       "       [0.08793208, 0.51225591, 0.08768134, 0.23232317]])"
      ]
     },
     "execution_count": 5,
     "metadata": {},
     "output_type": "execute_result"
    }
   ],
   "source": [
    "import numpy as np\n",
    "np.random.random()\n",
    "np.random.random(3)\n",
    "np.random.random(size=3)\n",
    "np.random.random((3, 4))\n",
    "np.random.random(size=(3,4))"
   ]
  },
  {
   "cell_type": "code",
   "execution_count": 2,
   "id": "38a04f5a",
   "metadata": {},
   "outputs": [
    {
     "data": {
      "text/plain": [
       "dtype('float64')"
      ]
     },
     "execution_count": 2,
     "metadata": {},
     "output_type": "execute_result"
    }
   ],
   "source": [
    "from numpy.random import normal \n",
    "\n",
    "normal_value = normal(size=(3, 4))\n",
    "#normal_value =normal(3,4)\n",
    "#ndarray常用的實體屬性\n",
    "type(normal_value)\n",
    "normal_value.ndim\n",
    "normal_value.size\n",
    "normal_value.shape\n",
    "normal_value.dtype"
   ]
  },
  {
   "cell_type": "markdown",
   "id": "8209c4ca",
   "metadata": {},
   "source": [
    "numpy.random.normal(loc=0.0, scale=1.0, size=None)\n",
    "loc：分佈的均值（預設為 0.0）。\n",
    "scale：分佈的標準差（預設為 1.0）。\n",
    "size：輸出陣列的形狀，可以是整數或元組（tuple）。\n",
    "在 normal_value = normal(size=(3, 4)) 中：\n",
    "你明確指定了 size=(3, 4)，表示生成一個形狀為 (3, 4) 的二維陣列，包含從正態分佈中抽取的隨機數。\n",
    "這是正確的用法，因為 size 參數需要明確指定輸出陣列的形狀。\n",
    "在 normal_value = normal(3, 4) 中：\n",
    "這種寫法試圖將 3 和 4 作為前兩個參數傳遞給 normal 函數。\n",
    "根據 normal 的參數順序，3 會被解釋為 loc（均值），4 會被解釋為 scale（標準差），而不是形狀。\n",
    "這會導致生成一個單一的隨機數（因為 size 預設為 None），而不是形狀為 (3, 4) 的陣列。"
   ]
  },
  {
   "cell_type": "markdown",
   "id": "468f1ac3",
   "metadata": {},
   "source": [
    "節省命名空間\n",
    "只導入需要的函數（如 normal），可以避免把整個 numpy.random 模組的所有函數都加進來，讓你的程式碼更簡潔、命名空間更乾淨，減少名稱衝突的機會。\n",
    "\n",
    "提高可讀性\n",
    "直接使用 normal()，而不是每次都寫 np.random.normal()，讓程式碼更精簡、易讀。這對於只需要用到一兩個隨機函數的腳本特別有幫助。\n",
    "\n",
    "明確指出用途\n",
    "這種寫法清楚地表明你只會用到 normal 這個功能，其他的隨機數生成函數（如 randint、random 等）都不會用到，讓協作者一看就明白你的需求。\n",
    "\n",
    "效能差異微乎其微\n",
    "在現代 Python 中，從模組中導入單一函數和導入整個模組在效能上差異很小，主要是為了程式碼組織和維護性考量。"
   ]
  },
  {
   "cell_type": "code",
   "execution_count": 18,
   "id": "b02a0331",
   "metadata": {},
   "outputs": [
    {
     "data": {
      "text/plain": [
       "array([[ 12.58996287,  15.05783547,   8.69203655, -11.04591528],\n",
       "       [  6.75457144,  14.75519745,   1.63740728,  -6.23245812],\n",
       "       [ -3.19942131,  -5.97713143,   7.06584288,  16.16075302]])"
      ]
     },
     "execution_count": 18,
     "metadata": {},
     "output_type": "execute_result"
    }
   ],
   "source": [
    "#ndarray,陣列運算\n",
    "normal_value * 10"
   ]
  },
  {
   "cell_type": "code",
   "execution_count": 21,
   "id": "da862555",
   "metadata": {},
   "outputs": [
    {
     "data": {
      "text/plain": [
       "array([2.52939196, 1.69147181, 1.40500432])"
      ]
     },
     "execution_count": 21,
     "metadata": {},
     "output_type": "execute_result"
    }
   ],
   "source": [
    "#ndarray,的統計\n",
    "normal_value.sum()\n",
    "normal_value.sum(axis=0)\n",
    "normal_value.sum(axis=1)"
   ]
  }
 ],
 "metadata": {
  "kernelspec": {
   "display_name": "Python 3",
   "language": "python",
   "name": "python3"
  },
  "language_info": {
   "codemirror_mode": {
    "name": "ipython",
    "version": 3
   },
   "file_extension": ".py",
   "mimetype": "text/x-python",
   "name": "python",
   "nbconvert_exporter": "python",
   "pygments_lexer": "ipython3",
   "version": "3.10.16"
  }
 },
 "nbformat": 4,
 "nbformat_minor": 5
}
