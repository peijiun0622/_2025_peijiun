{
 "cells": [
  {
   "cell_type": "markdown",
   "id": "cf8751b0",
   "metadata": {},
   "source": [
    "https://www.perplexity.ai/search/b99dd1ac-2d40-4f7d-ba29-2972671abf18"
   ]
  },
  {
   "cell_type": "code",
   "execution_count": 11,
   "id": "84cfa36b",
   "metadata": {},
   "outputs": [
    {
     "data": {
      "text/plain": [
       "array([[ 73,  68,  63,  86,  64],\n",
       "       [ 81,  69,  64,  78,  80],\n",
       "       [ 65,  55,  68,  56,  50],\n",
       "       [ 55,  69,  76,  65,  59],\n",
       "       [ 69,  69,  75,  74,  53],\n",
       "       [ 75,  67,  92,  99,  71],\n",
       "       [ 54,  50,  84,  68,  62],\n",
       "       [ 63,  91,  52,  71,  78],\n",
       "       [ 68,  98,  70,  71,  96],\n",
       "       [ 82,  65,  82,  85,  63],\n",
       "       [ 98,  64, 100,  88,  61],\n",
       "       [ 58,  86,  84,  76,  70],\n",
       "       [ 69,  89,  94,  73,  67],\n",
       "       [ 91,  62,  83,  73,  76],\n",
       "       [ 79,  52,  87, 100,  65],\n",
       "       [ 96,  72,  88,  63,  65],\n",
       "       [ 65,  87,  69,  73,  74],\n",
       "       [ 63,  80,  84,  58,  88],\n",
       "       [ 51,  55,  88,  71,  97],\n",
       "       [ 97,  82,  90,  84,  59],\n",
       "       [ 52,  52,  71,  79,  82],\n",
       "       [ 81,  65,  68,  81,  87],\n",
       "       [ 93,  63,  68,  96,  87],\n",
       "       [ 57,  58,  50,  83,  99],\n",
       "       [ 55,  90,  67,  86,  69],\n",
       "       [ 73,  90,  54,  73,  60],\n",
       "       [ 79,  59,  63,  93,  51],\n",
       "       [ 92,  91,  67,  79,  92],\n",
       "       [ 60,  82,  96,  96,  62],\n",
       "       [ 80,  63,  74,  96,  51],\n",
       "       [ 51,  92,  72,  86,  52],\n",
       "       [ 71,  95,  88,  54,  94],\n",
       "       [ 71,  70,  57,  62,  94],\n",
       "       [ 80,  87,  57,  64,  85],\n",
       "       [ 63,  92,  68,  86,  92],\n",
       "       [ 82,  70,  92,  97,  79],\n",
       "       [ 85,  81,  69,  55,  88],\n",
       "       [ 96,  52,  67,  79,  86],\n",
       "       [ 54,  62,  56,  94,  53],\n",
       "       [ 95,  71,  81,  81,  92],\n",
       "       [ 80,  75,  80,  57,  72],\n",
       "       [ 75,  96,  82,  83,  72],\n",
       "       [ 99,  91,  98, 100,  90],\n",
       "       [ 82,  99,  61,  91,  58],\n",
       "       [100,  55,  98,  63,  62],\n",
       "       [ 52,  85,  57,  62,  81],\n",
       "       [ 92,  60,  52,  55,  99],\n",
       "       [ 58,  90,  55,  98,  71],\n",
       "       [ 84,  63,  90,  68,  92],\n",
       "       [ 89,  65,  65,  50,  80]])"
      ]
     },
     "execution_count": 11,
     "metadata": {},
     "output_type": "execute_result"
    }
   ],
   "source": [
    "import numpy as np\n",
    "\n",
    "np.random.seed(5678)\n",
    "scores = np.random.randint(50, 101, size=(50, 5))\n",
    "scores"
   ]
  },
  {
   "cell_type": "code",
   "execution_count": 21,
   "id": "a86ed293",
   "metadata": {},
   "outputs": [
    {
     "data": {
      "text/plain": [
       "pandas.core.frame.DataFrame"
      ]
     },
     "execution_count": 21,
     "metadata": {},
     "output_type": "execute_result"
    }
   ],
   "source": [
    "import pandas as pd\n",
    "\n",
    "df = pd.DataFrame(scores,columns=[\"國文\", \"英文\", \"數學\", \"生物\", \"物理\"],index=[f\"學生{x}\" for x in range(1,51)])\n",
    "type(df)"
   ]
  },
  {
   "cell_type": "code",
   "execution_count": 17,
   "id": "3cd30559",
   "metadata": {},
   "outputs": [
    {
     "data": {
      "text/plain": [
       "[0, 1, 4, 9]"
      ]
     },
     "execution_count": 17,
     "metadata": {},
     "output_type": "execute_result"
    }
   ],
   "source": [
    "[x**2 for x in range(10) if x < 4]"
   ]
  },
  {
   "cell_type": "code",
   "execution_count": 2,
   "id": "0650af8e",
   "metadata": {},
   "outputs": [
    {
     "ename": "NameError",
     "evalue": "name 'df' is not defined",
     "output_type": "error",
     "traceback": [
      "\u001b[1;31m---------------------------------------------------------------------------\u001b[0m",
      "\u001b[1;31mNameError\u001b[0m                                 Traceback (most recent call last)",
      "Cell \u001b[1;32mIn[2], line 1\u001b[0m\n\u001b[1;32m----> 1\u001b[0m \u001b[43mdf\u001b[49m\u001b[38;5;241m.\u001b[39mcolumns\u001b[38;5;241m.\u001b[39mname \u001b[38;5;241m=\u001b[39m \u001b[38;5;124m\"\u001b[39m\u001b[38;5;124m科目\u001b[39m\u001b[38;5;124m\"\u001b[39m\n\u001b[0;32m      2\u001b[0m df\u001b[38;5;241m.\u001b[39mindex\u001b[38;5;241m.\u001b[39mname \u001b[38;5;241m=\u001b[39m \u001b[38;5;124m\"\u001b[39m\u001b[38;5;124m姓名\u001b[39m\u001b[38;5;124m\"\u001b[39m\n\u001b[0;32m      3\u001b[0m df\n",
      "\u001b[1;31mNameError\u001b[0m: name 'df' is not defined"
     ]
    }
   ],
   "source": [
    "df.columns.name = \"科目\"\n",
    "df.index.name = \"姓名\"\n",
    "df"
   ]
  }
 ],
 "metadata": {
  "kernelspec": {
   "display_name": "Python 3",
   "language": "python",
   "name": "python3"
  },
  "language_info": {
   "codemirror_mode": {
    "name": "ipython",
    "version": 3
   },
   "file_extension": ".py",
   "mimetype": "text/x-python",
   "name": "python",
   "nbconvert_exporter": "python",
   "pygments_lexer": "ipython3",
   "version": "3.10.16"
  }
 },
 "nbformat": 4,
 "nbformat_minor": 5
}
